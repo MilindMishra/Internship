{
 "cells": [
  {
   "cell_type": "code",
   "execution_count": 2,
   "id": "0a88b2a1",
   "metadata": {},
   "outputs": [
    {
     "name": "stdout",
     "output_type": "stream",
     "text": [
      "Enter the numerical value2\n",
      "Factorial of 2 is 2\n"
     ]
    }
   ],
   "source": [
    "#Q. 11 Write a python program to find the factorial of a number.\n",
    "\n",
    "import math\n",
    "def facto(n):\n",
    "    return(math.factorial(n))\n",
    "num = int(input(\"Enter the numerical value\"))\n",
    "print(\"Factorial of\",num,\"is\",facto(num))"
   ]
  },
  {
   "cell_type": "code",
   "execution_count": 3,
   "id": "2040124d",
   "metadata": {},
   "outputs": [
    {
     "name": "stdout",
     "output_type": "stream",
     "text": [
      "Enter the number63\n",
      "63 is not a prime number\n"
     ]
    }
   ],
   "source": [
    "#Q.12. Write a python program to find whether a number is prime or composite.\n",
    "\n",
    "num = int(input(\"Enter the number\"))\n",
    "if num > 1:\n",
    "    for i in range(2, int(num/2)+1):\n",
    "        if (num % i) == 0:\n",
    "            print(num, \"is not a prime number\")\n",
    "            break\n",
    "    else:\n",
    "        print(num, \"is a prime number \")\n",
    "        \n",
    "else:\n",
    "    print(num, \"is not a prime number\")"
   ]
  },
  {
   "cell_type": "code",
   "execution_count": 4,
   "id": "0f2bc14d",
   "metadata": {},
   "outputs": [
    {
     "name": "stdout",
     "output_type": "stream",
     "text": [
      "Enter String : lkjkl\n",
      "String is Palindrome\n"
     ]
    }
   ],
   "source": [
    "#Q.13. Write a python program to check whether a given string is palindrome or not.\n",
    "\n",
    "string = input(\"Enter String : \")\n",
    "reverse = string[::-1]\n",
    "\n",
    "if string == reverse:\n",
    "    print(\"String is Palindrome\")\n",
    "    \n",
    "else:\n",
    "    print(\"String is not palindrome\")"
   ]
  },
  {
   "cell_type": "code",
   "execution_count": 5,
   "id": "3464e97d",
   "metadata": {},
   "outputs": [
    {
     "name": "stdout",
     "output_type": "stream",
     "text": [
      "AC = 5.0\n",
      "BC = 4.0\n",
      "AB = 3.0\n"
     ]
    }
   ],
   "source": [
    "#Q.14. Write a Python program to get the third side of right-angled triangle from two given sides.\n",
    "\n",
    "def triangle_side(AB,BC,AC):\n",
    "        if AB == str(\"x\"):\n",
    "            return (\"AB = \" + str(((AC**2) - (BC**2))**0.5))\n",
    "        elif BC == str(\"x\"):\n",
    "            return (\"BC = \" + str(((AC**2) - (AB**2))**0.5))\n",
    "        elif AC == str(\"x\"):\n",
    "            return (\"AC = \" + str(((BC**2) + (AB**2))**0.5))\n",
    "        \n",
    "    \n",
    "print(triangle_side(3,4,'x'))\n",
    "print(triangle_side(3,'x',5))\n",
    "print(triangle_side('x',4,5))"
   ]
  },
  {
   "cell_type": "code",
   "execution_count": 6,
   "id": "868dd7e0",
   "metadata": {},
   "outputs": [
    {
     "name": "stdout",
     "output_type": "stream",
     "text": [
      "Enter the string : DOS\n",
      "DOS  :\n",
      " Counter({'D': 1, 'O': 1, 'S': 1})\n"
     ]
    }
   ],
   "source": [
    "#Q.15. Write a python program to print the frequency of each of the characters present in a given string.\n",
    "\n",
    "from collections import Counter\n",
    "freq_char = input(\"Enter the string : \")\n",
    "res = Counter(freq_char)\n",
    "print (freq_char,\" :\\n \"+ str(res))"
   ]
  },
  {
   "cell_type": "code",
   "execution_count": null,
   "id": "e1e6bba1",
   "metadata": {},
   "outputs": [],
   "source": []
  }
 ],
 "metadata": {
  "kernelspec": {
   "display_name": "Python 3",
   "language": "python",
   "name": "python3"
  },
  "language_info": {
   "codemirror_mode": {
    "name": "ipython",
    "version": 3
   },
   "file_extension": ".py",
   "mimetype": "text/x-python",
   "name": "python",
   "nbconvert_exporter": "python",
   "pygments_lexer": "ipython3",
   "version": "3.8.8"
  }
 },
 "nbformat": 4,
 "nbformat_minor": 5
}
